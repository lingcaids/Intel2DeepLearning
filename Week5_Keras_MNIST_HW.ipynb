{
 "cells": [
  {
   "cell_type": "markdown",
   "metadata": {},
   "source": [
    "## Handwritten Image Detection with Keras using MNIST data\n",
    "\n",
    "In this exercise we will work with image data: specifically the famous MNIST data set.  This data set contains 70,000 images of handwritten digits in grayscale (0=black, 255 = white).  The images are 28 pixels by 28 pixels for a total of 784 pixels.  This is quite small by image standards.  Also, the images are well centered and isolated.  This makes this problem solvable with standard fully connected neural nets without too much pre-work."
   ]
  },
  {
   "cell_type": "markdown",
   "metadata": {},
   "source": [
    "In the first part of this notebook, we will walk you through loading in the data, building a network, and training it.  Then it will be your turn to try different models and see if you can improve performance"
   ]
  },
  {
   "cell_type": "code",
   "execution_count": 1,
   "metadata": {},
   "outputs": [
    {
     "name": "stderr",
     "output_type": "stream",
     "text": [
      "Using TensorFlow backend.\n"
     ]
    }
   ],
   "source": [
    "# Preliminaries\n",
    "\n",
    "from __future__ import print_function\n",
    "\n",
    "import keras\n",
    "from keras.datasets import mnist\n",
    "from keras.models import Sequential\n",
    "from keras.layers import Dense, Dropout\n",
    "from keras.optimizers import RMSprop\n",
    "\n",
    "import numpy as np\n",
    "import matplotlib.pyplot as plt\n",
    "%matplotlib inline"
   ]
  },
  {
   "cell_type": "markdown",
   "metadata": {
    "collapsed": true
   },
   "source": [
    "Let's explore the dataset a little bit"
   ]
  },
  {
   "cell_type": "code",
   "execution_count": 2,
   "metadata": {},
   "outputs": [
    {
     "name": "stdout",
     "output_type": "stream",
     "text": [
      "Downloading data from https://s3.amazonaws.com/img-datasets/mnist.npz\n",
      "11493376/11490434 [==============================] - 5s 0us/step\n"
     ]
    }
   ],
   "source": [
    "# Load the data, shuffled and split between train and test sets (x_train and y_rain)\n",
    "(x_train, y_train), (x_test, y_test) = mnist.load_data()"
   ]
  },
  {
   "cell_type": "code",
   "execution_count": 3,
   "metadata": {},
   "outputs": [
    {
     "data": {
      "text/plain": [
       "(28, 28)"
      ]
     },
     "execution_count": 3,
     "metadata": {},
     "output_type": "execute_result"
    }
   ],
   "source": [
    "x_train[0].shape"
   ]
  },
  {
   "cell_type": "code",
   "execution_count": 4,
   "metadata": {},
   "outputs": [
    {
     "data": {
      "text/plain": [
       "array([[  0,   0,   0,   0,   0,   0,   0,   0,   0,   0,   0,   0,   0,\n",
       "          0,   0,   0,   0,   0,   0,   0,   0,   0,   0,   0,   0,   0,\n",
       "          0,   0],\n",
       "       [  0,   0,   0,   0,   0,   0,   0,   0,   0,   0,   0,   0,   0,\n",
       "          0,   0,   0,   0,   0,   0,   0,   0,   0,   0,   0,   0,   0,\n",
       "          0,   0],\n",
       "       [  0,   0,   0,   0,   0,   0,   0,   0,   0,   0,   0,   0,   0,\n",
       "          0,   0,   0,   0,   0,   0,   0,   0,   0,   0,   0,   0,   0,\n",
       "          0,   0],\n",
       "       [  0,   0,   0,   0,   0,   0,   0,   0,   0,   0,   0,   0,   0,\n",
       "          0,   0,   0,   0,   0,   0,   0,   0,   0,   0,   0,   0,   0,\n",
       "          0,   0],\n",
       "       [  0,   0,   0,   0,   0,   0,   0,   0,   0,   0,   0,   0,   0,\n",
       "          0,   0,   0,   0,   0,   0,   0,   0,   0,   0,   0,   0,   0,\n",
       "          0,   0],\n",
       "       [  0,   0,   0,   0,   0,   0,   0,   0,   0,   0,   0,  87, 138,\n",
       "        170, 253, 201, 244, 212, 222, 138,  86,  22,   0,   0,   0,   0,\n",
       "          0,   0],\n",
       "       [  0,   0,   0,   0,   0,   0,   0,   0,   0,   0,  95, 253, 252,\n",
       "        252, 252, 252, 253, 252, 252, 252, 252, 245,  80,   0,   0,   0,\n",
       "          0,   0],\n",
       "       [  0,   0,   0,   0,   0,   0,   0,   0,   0,  68, 246, 205,  69,\n",
       "         69,  69,  69,  69,  69,  69,  69, 205, 253, 240,  50,   0,   0,\n",
       "          0,   0],\n",
       "       [  0,   0,   0,   0,   0,   0,   0,   0,   0, 187, 252, 218,  34,\n",
       "          0,   0,   0,   0,   0,   0,   0, 116, 253, 252,  69,   0,   0,\n",
       "          0,   0],\n",
       "       [  0,   0,   0,   0,   0,   0,   0,   0, 116, 248, 252, 253,  92,\n",
       "          0,   0,   0,   0,   0,   0,  95, 230, 253, 157,   6,   0,   0,\n",
       "          0,   0],\n",
       "       [  0,   0,   0,   0,   0,   0,   0,   0, 116, 249, 253, 189,  42,\n",
       "          0,   0,   0,   0,  36, 170, 253, 243, 158,   0,   0,   0,   0,\n",
       "          0,   0],\n",
       "       [  0,   0,   0,   0,   0,   0,   0,   0,   0, 133, 252, 245, 140,\n",
       "         34,   0,   0,  57, 219, 252, 235,  60,   0,   0,   0,   0,   0,\n",
       "          0,   0],\n",
       "       [  0,   0,   0,   0,   0,   0,   0,   0,   0,  25, 205, 253, 252,\n",
       "        234, 184, 184, 253, 240, 100,  44,   0,   0,   0,   0,   0,   0,\n",
       "          0,   0],\n",
       "       [  0,   0,   0,   0,   0,   0,   0,   0,   0,   0,  21, 161, 219,\n",
       "        252, 252, 252, 234,  37,   0,   0,   0,   0,   0,   0,   0,   0,\n",
       "          0,   0],\n",
       "       [  0,   0,   0,   0,   0,   0,   0,   0,   0,   0,   0,  11, 203,\n",
       "        252, 252, 252, 251, 135,   0,   0,   0,   0,   0,   0,   0,   0,\n",
       "          0,   0],\n",
       "       [  0,   0,   0,   0,   0,   0,   0,   0,   0,   9,  76, 255, 253,\n",
       "        205, 168, 220, 255, 253, 137,   5,   0,   0,   0,   0,   0,   0,\n",
       "          0,   0],\n",
       "       [  0,   0,   0,   0,   0,   0,   0,   0,   0, 114, 252, 249, 132,\n",
       "         25,   0,   0, 180, 252, 252,  45,   0,   0,   0,   0,   0,   0,\n",
       "          0,   0],\n",
       "       [  0,   0,   0,   0,   0,   0,   0,   0,  51, 220, 252, 199,   0,\n",
       "          0,   0,   0,  38, 186, 252, 154,   7,   0,   0,   0,   0,   0,\n",
       "          0,   0],\n",
       "       [  0,   0,   0,   0,   0,   0,   0,   0, 184, 252, 252,  21,   0,\n",
       "          0,   0,   0,   0,  67, 252, 252,  22,   0,   0,   0,   0,   0,\n",
       "          0,   0],\n",
       "       [  0,   0,   0,   0,   0,   0,   0,   0, 184, 252, 200,   0,   0,\n",
       "          0,   0,   0,   0,  47, 252, 252,  22,   0,   0,   0,   0,   0,\n",
       "          0,   0],\n",
       "       [  0,   0,   0,   0,   0,   0,   0,   0, 185, 253, 201,   0,   0,\n",
       "          0,   0,   0,   3, 118, 253, 245,  21,   0,   0,   0,   0,   0,\n",
       "          0,   0],\n",
       "       [  0,   0,   0,   0,   0,   0,   0,   0, 163, 252, 252,   0,   0,\n",
       "          0,   0,   0,  97, 252, 252,  87,   0,   0,   0,   0,   0,   0,\n",
       "          0,   0],\n",
       "       [  0,   0,   0,   0,   0,   0,   0,   0,  51, 240, 252, 123,  70,\n",
       "         70, 112, 184, 222, 252, 170,  13,   0,   0,   0,   0,   0,   0,\n",
       "          0,   0],\n",
       "       [  0,   0,   0,   0,   0,   0,   0,   0,   0, 165, 252, 253, 252,\n",
       "        252, 252, 252, 245, 139,  13,   0,   0,   0,   0,   0,   0,   0,\n",
       "          0,   0],\n",
       "       [  0,   0,   0,   0,   0,   0,   0,   0,   0,   9,  75, 253, 252,\n",
       "        221, 137, 137,  21,   0,   0,   0,   0,   0,   0,   0,   0,   0,\n",
       "          0,   0],\n",
       "       [  0,   0,   0,   0,   0,   0,   0,   0,   0,   0,   0,   0,   0,\n",
       "          0,   0,   0,   0,   0,   0,   0,   0,   0,   0,   0,   0,   0,\n",
       "          0,   0],\n",
       "       [  0,   0,   0,   0,   0,   0,   0,   0,   0,   0,   0,   0,   0,\n",
       "          0,   0,   0,   0,   0,   0,   0,   0,   0,   0,   0,   0,   0,\n",
       "          0,   0],\n",
       "       [  0,   0,   0,   0,   0,   0,   0,   0,   0,   0,   0,   0,   0,\n",
       "          0,   0,   0,   0,   0,   0,   0,   0,   0,   0,   0,   0,   0,\n",
       "          0,   0]], dtype=uint8)"
      ]
     },
     "execution_count": 4,
     "metadata": {},
     "output_type": "execute_result"
    }
   ],
   "source": [
    "#Let's just look at a particular example to see what is inside\n",
    "\n",
    "x_train[333]  ## Just a 28 x 28 numpy array of ints from 0 to 255"
   ]
  },
  {
   "cell_type": "code",
   "execution_count": 5,
   "metadata": {},
   "outputs": [
    {
     "data": {
      "text/plain": [
       "8"
      ]
     },
     "execution_count": 5,
     "metadata": {},
     "output_type": "execute_result"
    }
   ],
   "source": [
    "# What is the corresponding label in the training set?\n",
    "y_train[333]"
   ]
  },
  {
   "cell_type": "code",
   "execution_count": 6,
   "metadata": {},
   "outputs": [
    {
     "data": {
      "text/plain": [
       "<matplotlib.image.AxesImage at 0x1ed915beeb8>"
      ]
     },
     "execution_count": 6,
     "metadata": {},
     "output_type": "execute_result"
    },
    {
     "data": {
      "image/png": "[encoded data removed]",
      "text/plain": [
       "<Figure size 432x288 with 1 Axes>"
      ]
     },
     "metadata": {
      "needs_background": "light"
     },
     "output_type": "display_data"
    }
   ],
   "source": [
    "# Let's see what this image actually looks like\n",
    "\n",
    "plt.imshow(x_train[333], cmap='Greys_r')"
   ]
  },
  {
   "cell_type": "code",
   "execution_count": 7,
   "metadata": {},
   "outputs": [
    {
     "name": "stdout",
     "output_type": "stream",
     "text": [
      "(60000, 28, 28) train samples\n",
      "(10000, 28, 28) test samples\n"
     ]
    }
   ],
   "source": [
    "# this is the shape of the np.array x_train\n",
    "# it is 3 dimensional.\n",
    "print(x_train.shape, 'train samples')\n",
    "print(x_test.shape, 'test samples')"
   ]
  },
  {
   "cell_type": "code",
   "execution_count": 8,
   "metadata": {},
   "outputs": [],
   "source": [
    "## For our purposes, these images are just a vector of 784 inputs, so let's convert\n",
    "x_train = x_train.reshape(len(x_train), 28*28)\n",
    "x_test = x_test.reshape(len(x_test), 28*28)\n",
    "\n",
    "## Keras works with floats, so we must cast the numbers to floats\n",
    "x_train = x_train.astype('float32')\n",
    "x_test = x_test.astype('float32')\n",
    "\n",
    "## Normalize the inputs so they are between 0 and 1\n",
    "x_train /= 255\n",
    "x_test /= 255\n"
   ]
  },
  {
   "cell_type": "code",
   "execution_count": 9,
   "metadata": {},
   "outputs": [
    {
     "data": {
      "text/plain": [
       "array([0., 0., 0., 0., 0., 0., 0., 0., 1., 0.], dtype=float32)"
      ]
     },
     "execution_count": 9,
     "metadata": {},
     "output_type": "execute_result"
    }
   ],
   "source": [
    "# convert class vectors to binary class matrices\n",
    "num_classes = 10\n",
    "y_train = keras.utils.to_categorical(y_train, num_classes)\n",
    "y_test = keras.utils.to_categorical(y_test, num_classes)\n",
    "\n",
    "y_train[333]  # now the digit k is represented by a 1 in the kth entry (0-indexed) of the length 10 vector"
   ]
  },
  {
   "cell_type": "code",
   "execution_count": 10,
   "metadata": {},
   "outputs": [],
   "source": [
    "# We will build a model with two hidden layers of size 512\n",
    "# Fully connected inputs at each layer\n",
    "# We will use dropout of .2 to help regularize\n",
    "model_1 = Sequential()\n",
    "model_1.add(Dense(64, activation='relu', input_shape=(784,)))\n",
    "model_1.add(Dropout(0.2))\n",
    "model_1.add(Dense(64, activation='relu'))\n",
    "model_1.add(Dropout(0.2))\n",
    "model_1.add(Dense(10, activation='softmax'))"
   ]
  },
  {
   "cell_type": "code",
   "execution_count": 11,
   "metadata": {},
   "outputs": [
    {
     "name": "stdout",
     "output_type": "stream",
     "text": [
      "Model: \"sequential_1\"\n",
      "_________________________________________________________________\n",
      "Layer (type)                 Output Shape              Param #   \n",
      "=================================================================\n",
      "dense_1 (Dense)              (None, 64)                50240     \n",
      "_________________________________________________________________\n",
      "dropout_1 (Dropout)          (None, 64)                0         \n",
      "_________________________________________________________________\n",
      "dense_2 (Dense)              (None, 64)                4160      \n",
      "_________________________________________________________________\n",
      "dropout_2 (Dropout)          (None, 64)                0         \n",
      "_________________________________________________________________\n",
      "dense_3 (Dense)              (None, 10)                650       \n",
      "=================================================================\n",
      "Total params: 55,050\n",
      "Trainable params: 55,050\n",
      "Non-trainable params: 0\n",
      "_________________________________________________________________\n"
     ]
    }
   ],
   "source": [
    "## Note that this model has a LOT of parameters\n",
    "model_1.summary()"
   ]
  },
  {
   "cell_type": "code",
   "execution_count": 12,
   "metadata": {},
   "outputs": [],
   "source": [
    "# Let's compile the model\n",
    "learning_rate = .001\n",
    "model_1.compile(loss='categorical_crossentropy',\n",
    "              optimizer=RMSprop(lr=learning_rate),\n",
    "              metrics=['accuracy'])\n",
    "# note that `categorical cross entropy` is the natural generalization \n",
    "# of the loss function we had in binary classification case, to multi class case"
   ]
  },
  {
   "cell_type": "code",
   "execution_count": 13,
   "metadata": {},
   "outputs": [
    {
     "name": "stdout",
     "output_type": "stream",
     "text": [
      "Train on 60000 samples, validate on 10000 samples\n",
      "Epoch 1/30\n",
      "60000/60000 [==============================] - 1s 24us/step - loss: 0.5098 - accuracy: 0.8470 - val_loss: 0.2003 - val_accuracy: 0.9387\n",
      "Epoch 2/30\n",
      "60000/60000 [==============================] - 1s 21us/step - loss: 0.2433 - accuracy: 0.9279 - val_loss: 0.1481 - val_accuracy: 0.9555\n",
      "Epoch 3/30\n",
      "60000/60000 [==============================] - 2s 26us/step - loss: 0.1973 - accuracy: 0.9411 - val_loss: 0.1251 - val_accuracy: 0.9627\n",
      "Epoch 4/30\n",
      "60000/60000 [==============================] - 2s 26us/step - loss: 0.1673 - accuracy: 0.9501 - val_loss: 0.1145 - val_accuracy: 0.9659\n",
      "Epoch 5/30\n",
      "60000/60000 [==============================] - 1s 22us/step - loss: 0.1534 - accuracy: 0.9548 - val_loss: 0.1066 - val_accuracy: 0.9679\n",
      "Epoch 6/30\n",
      "60000/60000 [==============================] - 1s 21us/step - loss: 0.1415 - accuracy: 0.9577 - val_loss: 0.1013 - val_accuracy: 0.9686\n",
      "Epoch 7/30\n",
      "60000/60000 [==============================] - 1s 23us/step - loss: 0.1322 - accuracy: 0.9606 - val_loss: 0.0975 - val_accuracy: 0.9701\n",
      "Epoch 8/30\n",
      "60000/60000 [==============================] - 1s 21us/step - loss: 0.1268 - accuracy: 0.9618 - val_loss: 0.0973 - val_accuracy: 0.9725\n",
      "Epoch 9/30\n",
      "60000/60000 [==============================] - 1s 22us/step - loss: 0.1199 - accuracy: 0.9640 - val_loss: 0.0919 - val_accuracy: 0.9739\n",
      "Epoch 10/30\n",
      "60000/60000 [==============================] - 1s 22us/step - loss: 0.1156 - accuracy: 0.9649 - val_loss: 0.0974 - val_accuracy: 0.9726\n",
      "Epoch 11/30\n",
      "60000/60000 [==============================] - 1s 20us/step - loss: 0.1152 - accuracy: 0.9658 - val_loss: 0.0963 - val_accuracy: 0.9722\n",
      "Epoch 12/30\n",
      "60000/60000 [==============================] - 1s 24us/step - loss: 0.1098 - accuracy: 0.9678 - val_loss: 0.0935 - val_accuracy: 0.9745\n",
      "Epoch 13/30\n",
      "60000/60000 [==============================] - 1s 21us/step - loss: 0.1051 - accuracy: 0.9679 - val_loss: 0.1003 - val_accuracy: 0.9714\n",
      "Epoch 14/30\n",
      "60000/60000 [==============================] - 1s 22us/step - loss: 0.1033 - accuracy: 0.9693 - val_loss: 0.0938 - val_accuracy: 0.9749\n",
      "Epoch 15/30\n",
      "60000/60000 [==============================] - 1s 24us/step - loss: 0.1003 - accuracy: 0.9695 - val_loss: 0.0963 - val_accuracy: 0.9738\n",
      "Epoch 16/30\n",
      "60000/60000 [==============================] - 1s 24us/step - loss: 0.1005 - accuracy: 0.9700 - val_loss: 0.0927 - val_accuracy: 0.9745\n",
      "Epoch 17/30\n",
      "60000/60000 [==============================] - 1s 21us/step - loss: 0.0947 - accuracy: 0.9716 - val_loss: 0.0932 - val_accuracy: 0.9768\n",
      "Epoch 18/30\n",
      "60000/60000 [==============================] - 1s 24us/step - loss: 0.0973 - accuracy: 0.9722 - val_loss: 0.0947 - val_accuracy: 0.9758\n",
      "Epoch 19/30\n",
      "60000/60000 [==============================] - 2s 29us/step - loss: 0.0930 - accuracy: 0.9712 - val_loss: 0.0976 - val_accuracy: 0.9757\n",
      "Epoch 20/30\n",
      "60000/60000 [==============================] - 2s 25us/step - loss: 0.0934 - accuracy: 0.9729 - val_loss: 0.0941 - val_accuracy: 0.9752\n",
      "Epoch 21/30\n",
      "60000/60000 [==============================] - 1s 23us/step - loss: 0.0905 - accuracy: 0.9737 - val_loss: 0.1022 - val_accuracy: 0.9752\n",
      "Epoch 22/30\n",
      "60000/60000 [==============================] - 1s 20us/step - loss: 0.0873 - accuracy: 0.9743 - val_loss: 0.0969 - val_accuracy: 0.9754\n",
      "Epoch 23/30\n",
      "60000/60000 [==============================] - 1s 21us/step - loss: 0.0860 - accuracy: 0.9745 - val_loss: 0.1025 - val_accuracy: 0.9758\n",
      "Epoch 24/30\n",
      "60000/60000 [==============================] - 1s 20us/step - loss: 0.0879 - accuracy: 0.9740 - val_loss: 0.0942 - val_accuracy: 0.9760\n",
      "Epoch 25/30\n",
      "60000/60000 [==============================] - 1s 19us/step - loss: 0.0856 - accuracy: 0.9743 - val_loss: 0.1010 - val_accuracy: 0.9757\n",
      "Epoch 26/30\n",
      "60000/60000 [==============================] - 1s 20us/step - loss: 0.0836 - accuracy: 0.9752 - val_loss: 0.1015 - val_accuracy: 0.9759\n",
      "Epoch 27/30\n",
      "60000/60000 [==============================] - 1s 23us/step - loss: 0.0848 - accuracy: 0.9753 - val_loss: 0.1102 - val_accuracy: 0.9745\n",
      "Epoch 28/30\n",
      "60000/60000 [==============================] - 1s 21us/step - loss: 0.0859 - accuracy: 0.9745 - val_loss: 0.1043 - val_accuracy: 0.9746\n",
      "Epoch 29/30\n",
      "60000/60000 [==============================] - 1s 20us/step - loss: 0.0850 - accuracy: 0.9750 - val_loss: 0.1129 - val_accuracy: 0.9763\n",
      "Epoch 30/30\n",
      "60000/60000 [==============================] - 1s 20us/step - loss: 0.0817 - accuracy: 0.9764 - val_loss: 0.1079 - val_accuracy: 0.9748\n"
     ]
    }
   ],
   "source": [
    "# And now let's fit.\n",
    "\n",
    "batch_size = 128  # mini-batch with 128 examples\n",
    "epochs = 30\n",
    "history = model_1.fit(\n",
    "    x_train, y_train,\n",
    "    batch_size=batch_size,\n",
    "    epochs=epochs,\n",
    "    verbose=1,\n",
    "    validation_data=(x_test, y_test))"
   ]
  },
  {
   "cell_type": "code",
   "execution_count": 14,
   "metadata": {},
   "outputs": [
    {
     "name": "stdout",
     "output_type": "stream",
     "text": [
      "Test loss: 0.1079152732883551\n",
      "Test accuracy: 0.9747999906539917\n"
     ]
    }
   ],
   "source": [
    "## We will use Keras evaluate function to evaluate performance on the test set\n",
    "\n",
    "score = model_1.evaluate(x_test, y_test, verbose=0)\n",
    "print('Test loss:', score[0])\n",
    "print('Test accuracy:', score[1])"
   ]
  },
  {
   "cell_type": "code",
   "execution_count": 17,
   "metadata": {},
   "outputs": [
    {
     "data": {
      "image/png": "[encoded data removed]",
      "text/plain": [
       "<Figure size 864x432 with 2 Axes>"
      ]
     },
     "metadata": {
      "needs_background": "light"
     },
     "output_type": "display_data"
    }
   ],
   "source": [
    "def plot_loss_accuracy(history):\n",
    "    fig = plt.figure(figsize=(12, 6))\n",
    "    ax = fig.add_subplot(1, 2, 1)\n",
    "    ax.plot(history.history[\"loss\"],'r-x', label=\"Train Loss\")\n",
    "    ax.plot(history.history[\"val_loss\"],'b-x', label=\"Validation Loss\")\n",
    "    ax.legend()\n",
    "    ax.set_title('cross_entropy loss')\n",
    "    ax.grid(True)\n",
    "\n",
    "\n",
    "    ax = fig.add_subplot(1, 2, 2)\n",
    "    ax.plot(history.history[\"accuracy\"],'r-x', label=\"Train Accuracy\")\n",
    "    ax.plot(history.history[\"val_accuracy\"],'b-x', label=\"Validation Accuracy\")\n",
    "    ax.legend()\n",
    "    ax.set_title('accuracy')\n",
    "    ax.grid(True)\n",
    "    \n",
    "\n",
    "plot_loss_accuracy(history)"
   ]
  },
  {
   "cell_type": "markdown",
   "metadata": {},
   "source": [
    "This is reasonably good performance, but we can do even better!  Next you will build an even bigger network and compare the performance."
   ]
  },
  {
   "cell_type": "markdown",
   "metadata": {},
   "source": [
    "## Exercise\n",
    "### Your Turn: Build your own model\n",
    "Use the Keras \"Sequential\" functionality to build `model_2` with the following specifications:\n",
    "\n",
    "1. Two hidden layers.\n",
    "2. First hidden layer of size 400 and second of size 300\n",
    "3. Dropout of .4 at each layer\n",
    "4. How many parameters does your model have?  How does it compare with the previous model?\n",
    "4. Train this model for 20 epochs with RMSProp at a learning rate of .001 and a batch size of 128\n",
    "\n",
    "\n"
   ]
  },
  {
   "cell_type": "code",
   "execution_count": 18,
   "metadata": {},
   "outputs": [],
   "source": [
    "### Build your model here\n"
   ]
  },
  {
   "cell_type": "code",
   "execution_count": null,
   "metadata": {},
   "outputs": [],
   "source": []
  },
  {
   "cell_type": "code",
   "execution_count": null,
   "metadata": {},
   "outputs": [],
   "source": []
  },
  {
   "cell_type": "code",
   "execution_count": null,
   "metadata": {},
   "outputs": [],
   "source": []
  },
  {
   "cell_type": "markdown",
   "metadata": {},
   "source": [
    "## SOLUTION"
   ]
  },
  {
   "cell_type": "code",
   "execution_count": null,
   "metadata": {},
   "outputs": [],
   "source": []
  },
  {
   "cell_type": "code",
   "execution_count": null,
   "metadata": {},
   "outputs": [],
   "source": []
  },
  {
   "cell_type": "code",
   "execution_count": null,
   "metadata": {},
   "outputs": [],
   "source": []
  },
  {
   "cell_type": "markdown",
   "metadata": {
    "collapsed": true
   },
   "source": [
    "## Think about the following questions\n",
    "\n",
    "1) How do model_1 and model_2 compare?  Which do you prefer?  If you were going to put one into production, which would you choose and why?\n",
    "\n",
    "2) Compare the trajectories of the loss function on the training set and test set for each model?  How do they compare?  What does that suggest about each model?  Do the same for accuracy?  Which do you think is more meaningful, the loss or the accuracy?\n",
    "\n",
    "3) Suggest an improvement to one of the models (changing structure, learning rate, number of epochs, etc.) that you think will result in a better model.  Try it out below?  Did it improve the performance?"
   ]
  },
  {
   "cell_type": "code",
   "execution_count": null,
   "metadata": {},
   "outputs": [],
   "source": []
  },
  {
   "cell_type": "code",
   "execution_count": null,
   "metadata": {},
   "outputs": [],
   "source": []
  },
  {
   "cell_type": "code",
   "execution_count": 19,
   "metadata": {},
   "outputs": [
    {
     "name": "stdout",
     "output_type": "stream",
     "text": [
      "end\n"
     ]
    }
   ],
   "source": [
    "print('end')"
   ]
  }
 ],
 "metadata": {
  "kernelspec": {
   "display_name": "Python 3",
   "language": "python",
   "name": "python3"
  },
  "language_info": {
   "codemirror_mode": {
    "name": "ipython",
    "version": 3
   },
   "file_extension": ".py",
   "mimetype": "text/x-python",
   "name": "python",
   "nbconvert_exporter": "python",
   "pygments_lexer": "ipython3",
   "version": "3.7.3"
  }
 },
 "nbformat": 4,
 "nbformat_minor": 1
}
